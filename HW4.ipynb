{
 "cells": [
  {
   "cell_type": "code",
   "execution_count": 2,
   "metadata": {},
   "outputs": [],
   "source": [
    "import numpy as np"
   ]
  },
  {
   "cell_type": "markdown",
   "metadata": {},
   "source": [
    "### Тема “Аналитическая геометрия” и “Графики на плоскости”"
   ]
  },
  {
   "cell_type": "markdown",
   "metadata": {},
   "source": [
    "**1. Задание (на листочке)**\n",
    "Решите уравнение \n",
    "sin(x)/x=0.\n",
    "\n",
    "\n",
    "ОДЗ\n",
    "\n",
    "x != 0\n",
    "\n",
    "sin(x) = 0  ==> x = pi*k (k - целое число)"
   ]
  },
  {
   "cell_type": "markdown",
   "metadata": {},
   "source": [
    "**2. Задание (на листочке)**\n",
    "Даны три прямые y=k1*x+b1, y=k2*x+b2, y=k3*x+b3. Как узнать, пересекаются они в одной точке или нет?\n",
    "\n",
    "\n",
    "Допустим, они пересекаются в точке М(х0, у0). \n",
    "\n",
    "Подставим координаты точки и приравняем уравнения 1 и 2, 1 и 3:\n",
    "\n",
    "k1x0+b1 = k2x0+b2\n",
    "k1x0+b1 = k3x0+b3\n",
    "\n",
    "x0=b2-b1)/(k1-k2)\n",
    "x0=(b3-b1)/(k1-k3)\n",
    "\n",
    "(b2-b1)/(k1-k2)=(b3-b1)/(k1-k3)\n",
    "\n",
    "Следовательно 3 прямые пересекаются, если:\n",
    "\n",
    "(b2-b1)/(k1-k2)=(b3-b1)/(k1-k3)\n",
    "\n",
    "k1!=k2!=k3\n"
   ]
  },
  {
   "cell_type": "markdown",
   "metadata": {},
   "source": [
    "**3. Задание (в программе или на листочке)**\n",
    "На листе тетради «в линейку» (расстояние между линиями равно а) лежит игла (длиной b). Координаты нижней точки иглы (х,у), игла лежит под углом alfa. Пересекает ли игла линию или нет?\n"
   ]
  },
  {
   "cell_type": "code",
   "execution_count": 15,
   "metadata": {},
   "outputs": [
    {
     "name": "stdout",
     "output_type": "stream",
     "text": [
      "Пересекает\n",
      "Не пересекает\n"
     ]
    }
   ],
   "source": [
    "def cross_line(a=1, b=2, x=1.3, N=10, alfa=np.pi/4):\n",
    "    dx = b*np.sin(alfa)\n",
    "    if dx>a:\n",
    "        return ('Пересекает')\n",
    "    for i in range(N):\n",
    "        if x <= a <= x+dx:\n",
    "            return ('Пересекает')\n",
    "        else:\n",
    "            return ('Не пересекает')\n",
    "print(cross_line(alfa=np.pi/2))\n",
    "print(cross_line(alfa=np.pi/6))\n",
    "\n"
   ]
  },
  {
   "cell_type": "markdown",
   "metadata": {},
   "source": [
    "### 17.6.2"
   ]
  },
  {
   "cell_type": "code",
   "execution_count": 16,
   "metadata": {},
   "outputs": [
    {
     "name": "stdout",
     "output_type": "stream",
     "text": [
      "45.0\n"
     ]
    }
   ],
   "source": [
    "#tg(a) = (A2B1 - A1B2)/(A1A2 + B1B2)\n",
    "\n",
    "A1 = -3\n",
    "B1 = 4\n",
    "A2 = 1\n",
    "B2 = 7\n",
    "print(abs(np.degrees(np.arctan((A2*B1 - A1*B2)/(A1*A2 + B1*B2)))))"
   ]
  },
  {
   "cell_type": "markdown",
   "metadata": {},
   "source": [
    "### 17.6.4"
   ]
  },
  {
   "cell_type": "markdown",
   "metadata": {},
   "source": [
    "y^2 - 2x - 2y - 5 = 0\n",
    "\n",
    "\n",
    "y^2 - 2x - 2y - 5 = y^2 - 2y + 1 - 1 - 2x - 5 = (y-1)^2 - 2*(x - (-3))\n",
    "\n",
    "Парабола"
   ]
  },
  {
   "cell_type": "markdown",
   "metadata": {},
   "source": [
    "### 17.6.5"
   ]
  },
  {
   "cell_type": "markdown",
   "metadata": {},
   "source": [
    "\n",
    "3x^2 + 5y^2 + 12x -30y +42 = 0\n",
    "\n",
    "\n",
    "3x^2 + 12x = 3(x^2 + 4x + 4 - 4) = 3(x + 2)^2 - 12\n",
    "\n",
    "5y^2 - 30y = 5(y^2 - 6y + 9 - 9) = 5(y - 3)^2 - 45\n",
    "\n",
    "f = 3(x + 2)^2 - 12 + 5(y - 3)^2 - 45 + 42 = 3(x + 2)^2 + 5(y - 3)^2 - 15\n",
    "\n",
    "(x + 2)^2/5 + (y - 3)^2/3 = 1 \n",
    "\n",
    "Эллипс\n"
   ]
  },
  {
   "cell_type": "markdown",
   "metadata": {},
   "source": [
    "### 17.6.6"
   ]
  },
  {
   "cell_type": "markdown",
   "metadata": {},
   "source": [
    "\n",
    "2x^2 - y^2 + 6y - 7 = 0\n",
    "\n",
    "\n",
    "-y^2 + 6y = -(y^2 - 6y + 9 - 9) = -(y - 3)^2 + 9\n",
    "\n",
    "f = 2x^2 - (y -3)^2 + 9 - 7 = 2x^2 - (y -3)^2 + 2\n",
    "\n",
    "(y -3)^2/2 - x^2/1 = 1 \n",
    "\n",
    "Гипербола \n",
    "\n"
   ]
  },
  {
   "cell_type": "markdown",
   "metadata": {},
   "source": [
    "### 17.6.7"
   ]
  },
  {
   "cell_type": "markdown",
   "metadata": {},
   "source": [
    "\n",
    "2x^2 - 3y^2 - 28x - 42y - 55 = 0\n",
    "\n",
    "2x^2 - 28x = 2(x^2 -14x + 49 - 49) = 2(x - 7)^2 - 98 \n",
    "\n",
    "-3y^2 -42y = -3(y^2 + 14y + 49 - 49) = -3(y + 7) + 147\n",
    "\n",
    "f = 2(x - 7)^2 - 98 - 3(y + 7)^2 + 147 - 55 = 2(x - 7)^2 - 3(y + 7)^2 - 6\n",
    "\n",
    "(x - 7)^2/3 - (y + 7)^2/2 = 1 Гипербола\n"
   ]
  },
  {
   "cell_type": "markdown",
   "metadata": {},
   "source": [
    "### 17.6.8"
   ]
  },
  {
   "cell_type": "markdown",
   "metadata": {},
   "source": [
    "\n",
    "2x^2 - 3y^2 - 28x - 42y - 55 = 0\n",
    "\n",
    "\n",
    "2x^2 - 28x = 2(x^2 -14x + 49 - 49) = 2(x - 7)^2 - 98 \n",
    "\n",
    "-3y^2 -42y = -3(y^2 + 14y + 49 - 49) = -3(y + 7) + 147\n",
    "\n",
    "f = 2(x - 7)^2 - 98 - 3(y + 7)^2 + 147 - 55 = 2(x - 7)^2 - 3(y + 7)^2 - 6\n",
    "\n",
    "(x - 7)^2/3 - (y + 7)^2/2 = 1 \n",
    "\n",
    "Гипербола\n"
   ]
  }
 ],
 "metadata": {
  "kernelspec": {
   "display_name": "Python 3",
   "language": "python",
   "name": "python3"
  },
  "language_info": {
   "codemirror_mode": {
    "name": "ipython",
    "version": 3
   },
   "file_extension": ".py",
   "mimetype": "text/x-python",
   "name": "python",
   "nbconvert_exporter": "python",
   "pygments_lexer": "ipython3",
   "version": "3.7.4"
  }
 },
 "nbformat": 4,
 "nbformat_minor": 2
}
